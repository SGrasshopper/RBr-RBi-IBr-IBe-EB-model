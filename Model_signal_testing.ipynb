{
 "cells": [
  {
   "cell_type": "code",
   "execution_count": 8,
   "id": "911546f1",
   "metadata": {},
   "outputs": [],
   "source": [
    "import numpy as np\n",
    "import math\n",
    "import CellModeller\n",
    "import pandas as pd\n",
    "#import cPickle\n",
    "import os\n",
    "import glob\n",
    "#%matplotlib notebook\n",
    "%matplotlib inline\n",
    "import matplotlib.pyplot as plt\n",
    "import seaborn as sns; sns.set(color_codes=True)\n",
    "import pickle"
   ]
  },
  {
   "cell_type": "code",
   "execution_count": 9,
   "id": "2ec4854d",
   "metadata": {},
   "outputs": [],
   "source": [
    "def my_logistic(t): #postive \n",
    "    return 100/(1+99*math.exp(-1.09*t))"
   ]
  },
  {
   "cell_type": "code",
   "execution_count": 67,
   "id": "2b58e383",
   "metadata": {},
   "outputs": [],
   "source": [
    "def my_logistic(t): #negative\n",
    "    return 100/(100/(1+99*math.exp(-1.09*t)))"
   ]
  },
  {
   "cell_type": "code",
   "execution_count": 127,
   "id": "cef4a9e5",
   "metadata": {},
   "outputs": [],
   "source": [
    "def my_logistic_pos(t, max_exp, slope, lag): #postive \n",
    "    return max_exp/(1+lag*math.exp(-slope*t))"
   ]
  },
  {
   "cell_type": "code",
   "execution_count": 222,
   "id": "848f0942",
   "metadata": {},
   "outputs": [],
   "source": [
    "def my_logistic_neg(t, max_exp, slope, lag): #negitive\n",
    "    return max_exp/(max_exp/(1+lag*math.exp(-slope*t)))"
   ]
  },
  {
   "cell_type": "code",
   "execution_count": 229,
   "id": "00aacd3d",
   "metadata": {},
   "outputs": [],
   "source": [
    "x = np.linspace(0, 10, 99)\n",
    "y = [my_logistic_neg(i, 100000, 0.409, 100) for i in x]\n",
    "growth = pd.DataFrame({'Time':x, 'HctA':y})"
   ]
  },
  {
   "cell_type": "code",
   "execution_count": 311,
   "id": "c414e9a0",
   "metadata": {},
   "outputs": [],
   "source": [
    "x = np.linspace(0, 20, 99)\n",
    "y = [my_logistic_pos(i, 100, .70129, 300) for i in x]\n",
    "growth = pd.DataFrame({'Time':x, 'HctA':y})"
   ]
  },
  {
   "cell_type": "code",
   "execution_count": 312,
   "id": "302d55ac",
   "metadata": {},
   "outputs": [
    {
     "data": {
      "text/plain": [
       "<AxesSubplot:xlabel='Time'>"
      ]
     },
     "execution_count": 312,
     "metadata": {},
     "output_type": "execute_result"
    },
    {
     "data": {
      "image/png": "[encoded data removed]",
      "text/plain": [
       "<Figure size 432x288 with 1 Axes>"
      ]
     },
     "metadata": {},
     "output_type": "display_data"
    }
   ],
   "source": [
    "growth.plot(x='Time', y='HctA', legend=False)"
   ]
  },
  {
   "cell_type": "code",
   "execution_count": 169,
   "id": "2f0ef3ae",
   "metadata": {},
   "outputs": [],
   "source": [
    "class cell:\n",
    "    rnaamt = [0.0,0.0,0.0,0.0,0.0] # RNA levels, used, in part, to drive geneamt levels #[0]= ectExp, [1]=Euo, [2]=HctA, [3]=CtcB, [4]=HctB\n",
    "    geneamt = [0.0,0.0,0.0,0.0,0.0]   #[0]= ectExp, [1]=Euo, [2]=HctA, [3]=CtcB, [4]=HctB\n",
    "    growthRate = 1"
   ]
  },
  {
   "cell_type": "code",
   "execution_count": 210,
   "id": "fd9952bc",
   "metadata": {},
   "outputs": [],
   "source": [
    "pr0 = 0.12 #RNA production rate of ectExp\n",
    "nr0 = 0.2 #RNA degredation rate of ectExp\n",
    "p0 = 1 #Protein production rate of ectExp\n",
    "n0 = 0.05  #Protein degredation rate of ectExp"
   ]
  },
  {
   "cell_type": "code",
   "execution_count": 211,
   "id": "18af3720",
   "metadata": {},
   "outputs": [],
   "source": [
    "cell.rnaamt = [0.0,0.0,0.0,0.0,0.0] # RNA levels, used, in part, to drive geneamt levels #[0]= ectExp, [1]=Euo, [2]=HctA, [3]=CtcB, [4]=HctB\n",
    "cell.geneamt = [0.0,0.0,0.0,0.0,0.0]\n",
    "def ectopic(t):\n",
    "    cell.rnaamt[0] = cell.rnaamt[0] + (pr0 * cell.growthRate) - (nr0 * cell.rnaamt[0]) # RNA of ectopic expressed protein\n",
    "    cell.geneamt[0] = cell.geneamt[0] + (p0 * cell.rnaamt[0] * cell.growthRate) - (n0 * cell.geneamt[0]) #Ectopic expresed protein\n",
    "    print(cell.geneamt[0])\n",
    "    return cell.geneamt[0]"
   ]
  },
  {
   "cell_type": "code",
   "execution_count": 212,
   "id": "7276f481",
   "metadata": {},
   "outputs": [
    {
     "name": "stdout",
     "output_type": "stream",
     "text": [
      "0.12\n",
      "0.32999999999999996\n",
      "0.6063\n",
      "0.930225\n",
      "1.2871057499999998\n",
      "1.6654640625\n",
      "2.0563617393749998\n",
      "2.4528803564062494\n",
      "2.8497057017859366\n",
      "3.2427959072566397\n",
      "3.6291165043418077\n",
      "4.006428993083117\n",
      "4.373122194595681\n",
      "4.728077805799273\n",
      "5.07056329225601\n",
      "5.40014662904057\n",
      "5.716628498706431\n",
      "6.01998843466542\n",
      "6.310342101647597\n",
      "6.587907467537576\n",
      "6.852978070938584\n",
      "7.1059019488139645\n",
      "7.347065076511114\n",
      "7.5768784027958365\n",
      "7.795767746744268\n",
      "8.004165970677631\n",
      "8.202506961160212\n",
      "8.391221044315373\n",
      "8.57073153707014\n",
      "8.741452196193062\n",
      "8.903785375164553\n",
      "9.05812073743124\n",
      "9.204834405379609\n",
      "9.344288448966573\n",
      "9.476830637603\n",
      "9.602794394590653\n",
      "9.722498905955364\n",
      "9.836249345532991\n",
      "9.944337186156659\n",
      "10.047040573169078\n",
      "10.144624741566826\n",
      "10.237342462133446\n",
      "10.325434505142743\n",
      "10.409130112778382\n",
      "10.488647473453684\n",
      "10.564194192832375\n",
      "10.635967757631857\n",
      "10.704155989303146\n",
      "10.768937485480294\n",
      "10.830482047720121\n",
      "10.88895109454519\n",
      "10.94449805918679\n",
      "10.997268771722538\n",
      "11.04740182553248\n",
      "11.095028928172713\n",
      "11.140275236897562\n",
      "11.183259679159471\n",
      "11.224095258486928\n",
      "11.262889346190926\n",
      "11.299743959384054\n",
      "11.334756025816992\n",
      "11.368017636047853\n",
      "11.399616283462828\n",
      "11.429635092663583\n",
      "11.45815303672952\n",
      "11.485245143852337\n",
      "11.510982693827154\n",
      "11.535433404869744\n",
      "11.558661611213417\n",
      "11.580728431922472\n",
      "11.60169193134213\n",
      "11.621607271587648\n",
      "11.640526857458365\n",
      "11.658500474145526\n",
      "11.675575418086314\n",
      "11.69179662130045\n",
      "11.707206769530188\n",
      "11.721846414489487\n",
      "11.735754080513662\n",
      "11.748966365886895\n",
      "11.761518039111685\n",
      "11.773442130371409\n",
      "11.784770018425084\n",
      "11.795531513161626\n",
      "11.805754934029782\n",
      "11.815467184549284\n",
      "11.824693823098611\n",
      "11.833459130165114\n",
      "11.841786172234006\n",
      "11.849696862484024\n",
      "11.857212018449196\n",
      "11.864351416798236\n",
      "11.871133845375525\n",
      "11.877577152640507\n",
      "11.883698294635488\n",
      "11.889513379605319\n",
      "11.895037710386337\n",
      "11.900285824676047\n",
      "11.905271533289467\n"
     ]
    }
   ],
   "source": [
    "x = np.linspace(0, 10, 99)\n",
    "y = [ectopic(i) for i in x]\n",
    "growth = pd.DataFrame({'Time':x, 'HctA':y})"
   ]
  },
  {
   "cell_type": "code",
   "execution_count": 213,
   "id": "910030c3",
   "metadata": {},
   "outputs": [
    {
     "data": {
      "text/plain": [
       "<AxesSubplot:xlabel='Time'>"
      ]
     },
     "execution_count": 213,
     "metadata": {},
     "output_type": "execute_result"
    },
    {
     "data": {
      "image/png": "[encoded data removed]",
      "text/plain": [
       "<Figure size 432x288 with 1 Axes>"
      ]
     },
     "metadata": {},
     "output_type": "display_data"
    }
   ],
   "source": [
    "growth.plot(x='Time', y='HctA', legend=False)"
   ]
  },
  {
   "cell_type": "code",
   "execution_count": null,
   "id": "c2365265",
   "metadata": {},
   "outputs": [],
   "source": []
  }
 ],
 "metadata": {
  "kernelspec": {
   "display_name": "Python 3 (ipykernel)",
   "language": "python",
   "name": "python3"
  },
  "language_info": {
   "codemirror_mode": {
    "name": "ipython",
    "version": 3
   },
   "file_extension": ".py",
   "mimetype": "text/x-python",
   "name": "python",
   "nbconvert_exporter": "python",
   "pygments_lexer": "ipython3",
   "version": "3.8.10"
  }
 },
 "nbformat": 4,
 "nbformat_minor": 5
}
