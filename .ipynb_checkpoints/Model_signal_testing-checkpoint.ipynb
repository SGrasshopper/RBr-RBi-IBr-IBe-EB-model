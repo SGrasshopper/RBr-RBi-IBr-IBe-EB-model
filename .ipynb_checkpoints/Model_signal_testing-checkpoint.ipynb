{
 "cells": [
  {
   "cell_type": "code",
   "execution_count": 8,
   "id": "911546f1",
   "metadata": {},
   "outputs": [],
   "source": [
    "import numpy as np\n",
    "import math\n",
    "import CellModeller\n",
    "import pandas as pd\n",
    "#import cPickle\n",
    "import os\n",
    "import glob\n",
    "#%matplotlib notebook\n",
    "%matplotlib inline\n",
    "import matplotlib.pyplot as plt\n",
    "import seaborn as sns; sns.set(color_codes=True)\n",
    "import pickle"
   ]
  },
  {
   "cell_type": "code",
   "execution_count": 9,
   "id": "2ec4854d",
   "metadata": {},
   "outputs": [],
   "source": [
    "def my_logistic(t): #postive \n",
    "    return 100/(1+99*math.exp(-1.09*t))"
   ]
  },
  {
   "cell_type": "code",
   "execution_count": 67,
   "id": "2b58e383",
   "metadata": {},
   "outputs": [],
   "source": [
    "def my_logistic(t): #negative\n",
    "    return 100/(100/(1+99*math.exp(-1.09*t)))"
   ]
  },
  {
   "cell_type": "code",
   "execution_count": 344,
   "id": "8a7d85f6",
   "metadata": {},
   "outputs": [],
   "source": [
    "def my_logistic_pos(t, max_exp, slope, lag, growthrate): #postive \n",
    "    return max_exp/(1+lag*math.exp(-slope*(t*growthrate)))"
   ]
  },
  {
   "cell_type": "code",
   "execution_count": 222,
   "id": "9afc7262",
   "metadata": {},
   "outputs": [],
   "source": [
    "def my_logistic_neg(t, max_exp, slope, lag): #negitive\n",
    "    return max_exp/(max_exp/(1+lag*math.exp(-slope*t)))"
   ]
  },
  {
   "cell_type": "code",
   "execution_count": 229,
   "id": "8d98ba28",
   "metadata": {},
   "outputs": [],
   "source": [
    "x = np.linspace(0, 10, 99)\n",
    "y = [my_logistic_neg(i, 100000, 0.409, 100) for i in x]\n",
    "growth = pd.DataFrame({'Time':x, 'HctA':y})"
   ]
  },
  {
   "cell_type": "code",
   "execution_count": 353,
   "id": "5fa4871f",
   "metadata": {},
   "outputs": [],
   "source": [
    "x = np.linspace(0, 20, 99)\n",
    "y = [my_logistic_pos(i, 100, .70129, 300, .8) for i in x]\n",
    "growth = pd.DataFrame({'Time':x, 'HctA':y})"
   ]
  },
  {
   "cell_type": "code",
   "execution_count": 354,
   "id": "302d55ac",
   "metadata": {},
   "outputs": [
    {
     "data": {
      "text/plain": [
       "<AxesSubplot:xlabel='Time'>"
      ]
     },
     "execution_count": 354,
     "metadata": {},
     "output_type": "execute_result"
    },
    {
     "data": {
      "image/png": "[encoded data removed]",
      "text/plain": [
       "<Figure size 432x288 with 1 Axes>"
      ]
     },
     "metadata": {},
     "output_type": "display_data"
    }
   ],
   "source": [
    "growth.plot(x='Time', y='HctA', legend=False)"
   ]
  },
  {
   "cell_type": "code",
   "execution_count": 169,
   "id": "2f0ef3ae",
   "metadata": {},
   "outputs": [],
   "source": [
    "class cell:\n",
    "    rnaamt = [0.0,0.0,0.0,0.0,0.0] # RNA levels, used, in part, to drive geneamt levels #[0]= ectExp, [1]=Euo, [2]=HctA, [3]=CtcB, [4]=HctB\n",
    "    geneamt = [0.0,0.0,0.0,0.0,0.0]   #[0]= ectExp, [1]=Euo, [2]=HctA, [3]=CtcB, [4]=HctB\n",
    "    growthRate = 1"
   ]
  },
  {
   "cell_type": "code",
   "execution_count": 327,
   "id": "fd9952bc",
   "metadata": {},
   "outputs": [],
   "source": [
    "pr0 = 0.2 #RNA production rate of ectExp\n",
    "nr0 = 0.05 #RNA degredation rate of ectExp\n",
    "p0 = 1 #Protein production rate of ectExp\n",
    "n0 = 0.03  #Protein degredation rate of ectExp"
   ]
  },
  {
   "cell_type": "code",
   "execution_count": 328,
   "id": "18af3720",
   "metadata": {},
   "outputs": [],
   "source": [
    "cell.rnaamt = [0.0,0.0,0.0,0.0,0.0] # RNA levels, used, in part, to drive geneamt levels #[0]= ectExp, [1]=Euo, [2]=HctA, [3]=CtcB, [4]=HctB\n",
    "cell.geneamt = [0.0,0.0,0.0,0.0,0.0]\n",
    "def ectopic(t):\n",
    "    cell.rnaamt[0] = cell.rnaamt[0] + (pr0 * cell.growthRate) - (nr0 * cell.rnaamt[0]) # RNA of ectopic expressed protein\n",
    "    cell.geneamt[0] = cell.geneamt[0] + (p0 * cell.rnaamt[0] * cell.growthRate) - (n0 * cell.geneamt[0]) #Ectopic expresed protein\n",
    "    print(cell.geneamt[0])\n",
    "    return cell.geneamt[0]"
   ]
  },
  {
   "cell_type": "code",
   "execution_count": 329,
   "id": "7276f481",
   "metadata": {},
   "outputs": [
    {
     "name": "stdout",
     "output_type": "stream",
     "text": [
      "0.2\n",
      "0.5840000000000001\n",
      "1.13698\n",
      "1.8448456000000004\n",
      "2.6943764820000005\n",
      "3.6731776250400006\n",
      "4.769633111913801\n",
      "5.972862393400137\n",
      "7.272678882699695\n",
      "8.659550759265187\n",
      "10.124563867381392\n",
      "11.659386600709402\n",
      "13.256236669570098\n",
      "14.907849653020877\n",
      "16.60744924279124\n",
      "18.348719090900442\n",
      "20.12577617729672\n",
      "21.93314561814495\n",
      "23.76573683945937\n",
      "25.61882104464142\n",
      "27.48800990814972\n",
      "29.36923543101039\n",
      "31.258730897179984\n",
      "33.15301287290949\n",
      "35.04886419423487\n",
      "36.94331789054486\n",
      "38.833641994858695\n",
      "40.717325193991606\n",
      "42.59206327420159\n",
      "44.4557463202038\n",
      "46.30644662761453\n",
      "48.14240729095209\n",
      "49.962031431281225\n",
      "51.763872029447604\n",
      "53.54662233261375\n",
      "55.309106803482436\n",
      "57.050272583182704\n",
      "58.76918144030172\n",
      "60.465002179976445\n",
      "62.137003488316736\n",
      "63.78454718871985\n",
      "65.40708188785823\n",
      "67.00413699028246\n",
      "68.57531706168098\n",
      "70.12029652188218\n",
      "71.63881464967477\n",
      "73.13067088246112\n",
      "74.59572039465006\n",
      "76.0338699395402\n",
      "77.44507394024714\n",
      "78.82933081598821\n",
      "80.18667953075963\n",
      "81.51719635212535\n",
      "82.82099180848569\n",
      "84.098207833809\n",
      "85.34901508939372\n",
      "86.57361045278094\n",
      "87.7722146644631\n",
      "88.94507012353154\n",
      "90.09243882387779\n",
      "91.21460042301103\n",
      "92.31185043597782\n",
      "93.38449854727274\n",
      "94.4328670340101\n",
      "95.45728929398757\n",
      "96.45810847261582\n",
      "97.43567618301283\n",
      "98.39035131386915\n",
      "99.32249891998245\n",
      "100.23248919063587\n",
      "101.12069649125705\n",
      "101.98749847404258\n",
      "102.83327525346839\n",
      "103.65840864282906\n",
      "104.46328144816067\n",
      "105.24827681610152\n",
      "106.01377763243487\n",
      "106.76016596823739\n",
      "107.48782257072706\n",
      "108.1971263960652\n",
      "108.88845418152019\n",
      "109.5621800545447\n",
      "110.21867517645495\n",
      "110.85830741853057\n",
      "111.48144106847546\n",
      "112.08843656529696\n",
      "112.67965026077003\n",
      "113.25543420575731\n",
      "113.81613595975445\n",
      "114.36209842212317\n",
      "114.89365968356276\n",
      "115.41115289645401\n",
      "115.91490616278863\n",
      "116.40524243847179\n",
      "116.88247945285612\n",
      "117.34692964243199\n",
      "117.7989000976625\n",
      "118.23869252201092\n",
      "118.66660320226498\n"
     ]
    }
   ],
   "source": [
    "x = np.linspace(0, 20, 99)\n",
    "y = [ectopic(i) for i in x]\n",
    "growth = pd.DataFrame({'Time':x, 'HctA':y})"
   ]
  },
  {
   "cell_type": "code",
   "execution_count": 330,
   "id": "910030c3",
   "metadata": {},
   "outputs": [
    {
     "data": {
      "text/plain": [
       "<AxesSubplot:xlabel='Time'>"
      ]
     },
     "execution_count": 330,
     "metadata": {},
     "output_type": "execute_result"
    },
    {
     "data": {
      "image/png": "[encoded data removed]",
      "text/plain": [
       "<Figure size 432x288 with 1 Axes>"
      ]
     },
     "metadata": {},
     "output_type": "display_data"
    }
   ],
   "source": [
    "growth.plot(x='Time', y='HctA', legend=False)"
   ]
  },
  {
   "cell_type": "code",
   "execution_count": null,
   "id": "c2365265",
   "metadata": {},
   "outputs": [],
   "source": []
  }
 ],
 "metadata": {
  "kernelspec": {
   "display_name": "Python 3 (ipykernel)",
   "language": "python",
   "name": "python3"
  },
  "language_info": {
   "codemirror_mode": {
    "name": "ipython",
    "version": 3
   },
   "file_extension": ".py",
   "mimetype": "text/x-python",
   "name": "python",
   "nbconvert_exporter": "python",
   "pygments_lexer": "ipython3",
   "version": "3.8.10"
  }
 },
 "nbformat": 4,
 "nbformat_minor": 5
}
