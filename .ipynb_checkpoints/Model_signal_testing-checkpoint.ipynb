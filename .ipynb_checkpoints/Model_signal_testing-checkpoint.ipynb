{
 "cells": [
  {
   "cell_type": "code",
   "execution_count": 8,
   "id": "911546f1",
   "metadata": {},
   "outputs": [],
   "source": [
    "import numpy as np\n",
    "import math\n",
    "import CellModeller\n",
    "import pandas as pd\n",
    "#import cPickle\n",
    "import os\n",
    "import glob\n",
    "#%matplotlib notebook\n",
    "%matplotlib inline\n",
    "import matplotlib.pyplot as plt\n",
    "import seaborn as sns; sns.set(color_codes=True)\n",
    "import pickle"
   ]
  },
  {
   "cell_type": "code",
   "execution_count": 9,
   "id": "2ec4854d",
   "metadata": {},
   "outputs": [],
   "source": [
    "def my_logistic(t): #postive \n",
    "    return 100/(1+99*math.exp(-1.09*t))"
   ]
  },
  {
   "cell_type": "code",
   "execution_count": 67,
   "id": "2b58e383",
   "metadata": {},
   "outputs": [],
   "source": [
    "def my_logistic(t): #negative\n",
    "    return 100/(100/(1+99*math.exp(-1.09*t)))"
   ]
  },
  {
   "cell_type": "code",
   "execution_count": 89,
   "id": "fdc41711",
   "metadata": {},
   "outputs": [],
   "source": [
    "def my_logistic(t, high, slope, lag): #postive \n",
    "    return high/(1+lag*math.exp(-slope*t))"
   ]
  },
  {
   "cell_type": "code",
   "execution_count": 98,
   "id": "544480d8",
   "metadata": {},
   "outputs": [],
   "source": [
    "x = np.linspace(0, 10, 99)\n",
    "y = [my_logistic(i, 100, 1.09, 9) for i in x]\n",
    "growth = pd.DataFrame({'Time':x, 'HctA':y})"
   ]
  },
  {
   "cell_type": "code",
   "execution_count": 10,
   "id": "ab110f60",
   "metadata": {},
   "outputs": [],
   "source": [
    "x = np.linspace(0, 10, 99)\n",
    "y = [my_logistic(i) for i in x]\n",
    "growth = pd.DataFrame({'Time':x, 'HctA':y})"
   ]
  },
  {
   "cell_type": "code",
   "execution_count": 99,
   "id": "302d55ac",
   "metadata": {},
   "outputs": [
    {
     "data": {
      "text/plain": [
       "<AxesSubplot:xlabel='Time'>"
      ]
     },
     "execution_count": 99,
     "metadata": {},
     "output_type": "execute_result"
    },
    {
     "data": {
      "image/png": "[encoded data removed]",
      "text/plain": [
       "<Figure size 432x288 with 1 Axes>"
      ]
     },
     "metadata": {},
     "output_type": "display_data"
    }
   ],
   "source": [
    "growth.plot(x='Time', y='HctA', legend=False)"
   ]
  },
  {
   "cell_type": "code",
   "execution_count": 12,
   "id": "2f0ef3ae",
   "metadata": {},
   "outputs": [],
   "source": [
    "class cell:\n",
    "    rnaamt = [0.0,0.0,0.0,0.0,0.0] # RNA levels, used, in part, to drive geneamt levels #[0]= ectExp, [1]=Euo, [2]=HctA, [3]=CtcB, [4]=HctB\n",
    "    geneamt = [0.0,0.0,0.0,0.0,0.0]   #[0]= ectExp, [1]=Euo, [2]=HctA, [3]=CtcB, [4]=HctB\n",
    "    growthRate = 1"
   ]
  },
  {
   "cell_type": "code",
   "execution_count": 68,
   "id": "fd9952bc",
   "metadata": {},
   "outputs": [],
   "source": [
    "pr0 = 0.09 #RNA production rate of ectExp\n",
    "nr0 = 0.05 #RNA degredation rate of ectExp\n",
    "p0 = 2 #Protein production rate of ectExp\n",
    "n0 = 0.5  #Protein degredation rate of ectExp"
   ]
  },
  {
   "cell_type": "code",
   "execution_count": 69,
   "id": "18af3720",
   "metadata": {},
   "outputs": [],
   "source": [
    "cell.rnaamt = [0.0,0.0,0.0,0.0,0.0] # RNA levels, used, in part, to drive geneamt levels #[0]= ectExp, [1]=Euo, [2]=HctA, [3]=CtcB, [4]=HctB\n",
    "cell.geneamt = [0.0,0.0,0.0,0.0,0.0]\n",
    "def ectopic(t):\n",
    "    cell.rnaamt[0] = cell.rnaamt[0] + (pr0 * cell.growthRate) - (nr0 * cell.rnaamt[0]) # RNA of ectopic expressed protein\n",
    "    cell.geneamt[0] = cell.geneamt[0] + (p0 * cell.rnaamt[0] * cell.growthRate) - (n0 * cell.geneamt[0]) #Ectopic expresed protein\n",
    "    print(cell.geneamt[0])\n",
    "    return cell.geneamt[0]"
   ]
  },
  {
   "cell_type": "code",
   "execution_count": 70,
   "id": "7276f481",
   "metadata": {},
   "outputs": [
    {
     "name": "stdout",
     "output_type": "stream",
     "text": [
      "0.18\n",
      "0.44099999999999995\n",
      "0.7339499999999999\n",
      "1.0347524999999997\n",
      "1.3317648749999997\n",
      "1.6195516312499996\n",
      "1.8957615496874998\n",
      "2.1595672222031252\n",
      "2.4108857360929687\n",
      "2.64998988678832\n",
      "2.8773146111989036\n",
      "3.0933609900139585\n",
      "3.2986489952007605\n",
      "3.493694572784472\n",
      "3.678998857817123\n",
      "3.8550434217622045\n",
      "4.022288504092064\n",
      "4.181172705596445\n",
      "4.332113383671116\n",
      "4.475507371164807\n",
      "4.611731830945191\n",
      "4.741145153567243\n",
      "4.864087852973537\n",
      "4.980883438867187\n",
      "5.091839256194993\n",
      "5.197247288020825\n",
      "5.297384920937574\n",
      "5.3925156735495925\n",
      "5.4828898892015605\n",
      "5.568745394406206\n",
      "5.650308124518258\n",
      "5.727792718208526\n",
      "5.80140308225619\n",
      "5.871332928122426\n",
      "5.937766281705827\n",
      "6.000877967615299\n",
      "6.060834069231914\n",
      "6.11779236576901\n",
      "6.171902747479905\n",
      "6.223307610105582\n",
      "6.27214222960014\n",
      "6.31853511812005\n",
      "6.362608362214008\n",
      "6.404477944103286\n",
      "6.444254046898112\n",
      "6.482041344553201\n",
      "6.51793927732554\n",
      "6.552042313459262\n",
      "6.584440197786299\n",
      "6.615218187896984\n",
      "6.644457278502135\n",
      "6.672234414577028\n",
      "6.6986226938481765\n",
      "6.7236915591557675\n",
      "6.747506981197979\n",
      "6.770131632138082\n",
      "6.791625050531177\n",
      "6.812043798004618\n",
      "6.831441608104387\n",
      "6.849869527699168\n",
      "6.867376051314211\n",
      "6.8840072487485\n",
      "6.899806886311074\n",
      "6.914816541995521\n",
      "6.929075714895745\n",
      "6.942621929150958\n",
      "6.955490832693411\n",
      "6.967716291058741\n",
      "6.979330476505804\n",
      "6.990363952680513\n",
      "7.000845755046487\n",
      "7.010803467294162\n",
      "7.020263293929456\n",
      "7.029250129232983\n",
      "7.037787622771334\n",
      "7.045898241632768\n",
      "7.053603329551129\n",
      "7.060923163073573\n",
      "7.067877004919894\n",
      "7.074483154673901\n",
      "7.080758996940207\n",
      "7.086721047093196\n",
      "7.092384994738536\n",
      "7.0977657450016105\n",
      "7.10287745775153\n",
      "7.107733584863953\n",
      "7.112346905620756\n",
      "7.116729560339718\n",
      "7.120893082322732\n",
      "7.1248484282065965\n",
      "7.128606006796266\n",
      "7.1321757064564535\n",
      "7.135566921133631\n",
      "7.1387885750769495\n",
      "7.141849146323103\n",
      "7.144756689006947\n",
      "7.147518854556601\n",
      "7.150142911828771\n",
      "7.152635766237332\n"
     ]
    }
   ],
   "source": [
    "x = np.linspace(0, 10, 99)\n",
    "y = [ectopic(i) for i in x]\n",
    "growth = pd.DataFrame({'Time':x, 'HctA':y})"
   ]
  },
  {
   "cell_type": "code",
   "execution_count": 71,
   "id": "910030c3",
   "metadata": {},
   "outputs": [
    {
     "data": {
      "text/plain": [
       "<AxesSubplot:xlabel='Time'>"
      ]
     },
     "execution_count": 71,
     "metadata": {},
     "output_type": "execute_result"
    },
    {
     "data": {
      "image/png": "[encoded data removed]",
      "text/plain": [
       "<Figure size 432x288 with 1 Axes>"
      ]
     },
     "metadata": {},
     "output_type": "display_data"
    }
   ],
   "source": [
    "growth.plot(x='Time', y='HctA', legend=False)"
   ]
  },
  {
   "cell_type": "code",
   "execution_count": null,
   "id": "c2365265",
   "metadata": {},
   "outputs": [],
   "source": []
  }
 ],
 "metadata": {
  "kernelspec": {
   "display_name": "Python 3 (ipykernel)",
   "language": "python",
   "name": "python3"
  },
  "language_info": {
   "codemirror_mode": {
    "name": "ipython",
    "version": 3
   },
   "file_extension": ".py",
   "mimetype": "text/x-python",
   "name": "python",
   "nbconvert_exporter": "python",
   "pygments_lexer": "ipython3",
   "version": "3.8.10"
  }
 },
 "nbformat": 4,
 "nbformat_minor": 5
}
