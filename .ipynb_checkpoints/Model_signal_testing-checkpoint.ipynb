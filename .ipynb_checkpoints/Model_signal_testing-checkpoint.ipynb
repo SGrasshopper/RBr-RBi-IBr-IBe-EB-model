{
 "cells": [
  {
   "cell_type": "code",
   "execution_count": 4,
   "id": "911546f1",
   "metadata": {},
   "outputs": [],
   "source": [
    "import numpy as np\n",
    "import math\n",
    "import CellModeller\n",
    "import pandas as pd\n",
    "#import cPickle\n",
    "import os\n",
    "import glob\n",
    "#%matplotlib notebook\n",
    "%matplotlib inline\n",
    "import matplotlib.pyplot as plt\n",
    "import seaborn as sns; sns.set(color_codes=True)\n",
    "import pickle"
   ]
  },
  {
   "cell_type": "code",
   "execution_count": 5,
   "id": "2ec4854d",
   "metadata": {},
   "outputs": [],
   "source": [
    "def my_logistic(t): #postive \n",
    "    return 100/(1+99*math.exp(-1.09*t))"
   ]
  },
  {
   "cell_type": "code",
   "execution_count": 6,
   "id": "2b58e383",
   "metadata": {},
   "outputs": [],
   "source": [
    "def my_logistic(t): #negative\n",
    "    return 100/(100/(1+99*math.exp(-1.09*t)))"
   ]
  },
  {
   "cell_type": "code",
   "execution_count": 7,
   "id": "1a98b29a",
   "metadata": {},
   "outputs": [],
   "source": [
    "def my_logistic_pos(t, max_exp, slope, lag, growthrate): #postive \n",
    "    \n",
    "    return max_exp/(1+lag*math.exp(-slope*(t*growthrate)))"
   ]
  },
  {
   "cell_type": "code",
   "execution_count": 8,
   "id": "9ed4220c",
   "metadata": {},
   "outputs": [],
   "source": [
    "def my_logistic_neg(t, slope, start_value): #negitive\n",
    "    return 1/(1/(start_value*math.exp(-slope*t)))"
   ]
  },
  {
   "cell_type": "code",
   "execution_count": 9,
   "id": "d115f3c4",
   "metadata": {},
   "outputs": [],
   "source": [
    "x = np.linspace(0, 10, 99)\n",
    "y = [my_logistic_neg(i, 0.109, 1000) for i in x]\n",
    "growth = pd.DataFrame({'Time':x, 'HctA':y})"
   ]
  },
  {
   "cell_type": "code",
   "execution_count": 10,
   "id": "347b6470",
   "metadata": {},
   "outputs": [
    {
     "data": {
      "text/plain": [
       "array([ 0.        ,  0.10204082,  0.20408163,  0.30612245,  0.40816327,\n",
       "        0.51020408,  0.6122449 ,  0.71428571,  0.81632653,  0.91836735,\n",
       "        1.02040816,  1.12244898,  1.2244898 ,  1.32653061,  1.42857143,\n",
       "        1.53061224,  1.63265306,  1.73469388,  1.83673469,  1.93877551,\n",
       "        2.04081633,  2.14285714,  2.24489796,  2.34693878,  2.44897959,\n",
       "        2.55102041,  2.65306122,  2.75510204,  2.85714286,  2.95918367,\n",
       "        3.06122449,  3.16326531,  3.26530612,  3.36734694,  3.46938776,\n",
       "        3.57142857,  3.67346939,  3.7755102 ,  3.87755102,  3.97959184,\n",
       "        4.08163265,  4.18367347,  4.28571429,  4.3877551 ,  4.48979592,\n",
       "        4.59183673,  4.69387755,  4.79591837,  4.89795918,  5.        ,\n",
       "        5.10204082,  5.20408163,  5.30612245,  5.40816327,  5.51020408,\n",
       "        5.6122449 ,  5.71428571,  5.81632653,  5.91836735,  6.02040816,\n",
       "        6.12244898,  6.2244898 ,  6.32653061,  6.42857143,  6.53061224,\n",
       "        6.63265306,  6.73469388,  6.83673469,  6.93877551,  7.04081633,\n",
       "        7.14285714,  7.24489796,  7.34693878,  7.44897959,  7.55102041,\n",
       "        7.65306122,  7.75510204,  7.85714286,  7.95918367,  8.06122449,\n",
       "        8.16326531,  8.26530612,  8.36734694,  8.46938776,  8.57142857,\n",
       "        8.67346939,  8.7755102 ,  8.87755102,  8.97959184,  9.08163265,\n",
       "        9.18367347,  9.28571429,  9.3877551 ,  9.48979592,  9.59183673,\n",
       "        9.69387755,  9.79591837,  9.89795918, 10.        ])"
      ]
     },
     "execution_count": 10,
     "metadata": {},
     "output_type": "execute_result"
    }
   ],
   "source": [
    "x"
   ]
  },
  {
   "cell_type": "code",
   "execution_count": 95,
   "id": "fc14f53c",
   "metadata": {},
   "outputs": [],
   "source": [
    "x = np.linspace(1, 100, 100)\n",
    "y = [my_logistic_pos(i, 100, 0.30129, 30000, 1) for i in x]\n",
    "growth = pd.DataFrame({'Time':x, 'HctA':y})"
   ]
  },
  {
   "cell_type": "code",
   "execution_count": 96,
   "id": "302d55ac",
   "metadata": {},
   "outputs": [
    {
     "data": {
      "text/plain": [
       "<AxesSubplot:xlabel='Time'>"
      ]
     },
     "execution_count": 96,
     "metadata": {},
     "output_type": "execute_result"
    },
    {
     "data": {
      "image/png": "[encoded data removed]",
      "text/plain": [
       "<Figure size 432x288 with 1 Axes>"
      ]
     },
     "metadata": {},
     "output_type": "display_data"
    }
   ],
   "source": [
    "growth.plot(x='Time', y='HctA', legend=False)"
   ]
  },
  {
   "cell_type": "code",
   "execution_count": 123,
   "id": "2f0ef3ae",
   "metadata": {},
   "outputs": [],
   "source": [
    "class cell:\n",
    "    rnaamt = [0.0,0.0,0.0,0.0,0.0] # RNA levels, used, in part, to drive geneamt levels #[0]= ectExp, [1]=Euo, [2]=HctA, [3]=CtcB, [4]=HctB\n",
    "    geneamt = [0.0,0.0,0.0,0.0,0.0]   #[0]= ectExp, [1]=Euo, [2]=HctA, [3]=CtcB, [4]=HctB\n",
    "    ctype_time = [0]\n",
    "    growthRate = .7"
   ]
  },
  {
   "cell_type": "code",
   "execution_count": 124,
   "id": "98e68b7a",
   "metadata": {},
   "outputs": [],
   "source": [
    "cell.ctype_time = 0\n",
    "cell.geneamt[0] = 0.0\n",
    "def ectopic_2(t):\n",
    "    cell.ctype_time = cell.ctype_time - 1*-1*cell.growthRate\n",
    "    print(cell.ctype_time)\n",
    "    cell.geneamt[0] = my_logistic_pos(cell.ctype_time, 100, 0.30129, 30000, 1)\n",
    "    print(t)\n",
    "    return cell.geneamt[0]"
   ]
  },
  {
   "cell_type": "code",
   "execution_count": 125,
   "id": "d53eb76b",
   "metadata": {},
   "outputs": [
    {
     "name": "stdout",
     "output_type": "stream",
     "text": [
      "0.7\n",
      "100.0\n",
      "1.4\n",
      "110.1010101010101\n",
      "2.0999999999999996\n",
      "120.20202020202021\n",
      "2.8\n",
      "130.3030303030303\n",
      "3.5\n",
      "140.40404040404042\n",
      "4.2\n",
      "150.50505050505052\n",
      "4.9\n",
      "160.6060606060606\n",
      "5.6000000000000005\n",
      "170.7070707070707\n",
      "6.300000000000001\n",
      "180.8080808080808\n",
      "7.000000000000001\n",
      "190.9090909090909\n",
      "7.700000000000001\n",
      "201.010101010101\n",
      "8.4\n",
      "211.1111111111111\n",
      "9.1\n",
      "221.2121212121212\n",
      "9.799999999999999\n",
      "231.3131313131313\n",
      "10.499999999999998\n",
      "241.4141414141414\n",
      "11.199999999999998\n",
      "251.5151515151515\n",
      "11.899999999999997\n",
      "261.6161616161616\n",
      "12.599999999999996\n",
      "271.7171717171717\n",
      "13.299999999999995\n",
      "281.8181818181818\n",
      "13.999999999999995\n",
      "291.9191919191919\n",
      "14.699999999999994\n",
      "302.020202020202\n",
      "15.399999999999993\n",
      "312.1212121212121\n",
      "16.099999999999994\n",
      "322.2222222222222\n",
      "16.799999999999994\n",
      "332.32323232323233\n",
      "17.499999999999993\n",
      "342.4242424242424\n",
      "18.199999999999992\n",
      "352.52525252525254\n",
      "18.89999999999999\n",
      "362.6262626262626\n",
      "19.59999999999999\n",
      "372.7272727272727\n",
      "20.29999999999999\n",
      "382.8282828282828\n",
      "20.99999999999999\n",
      "392.9292929292929\n",
      "21.69999999999999\n",
      "403.030303030303\n",
      "22.399999999999988\n",
      "413.1313131313131\n",
      "23.099999999999987\n",
      "423.2323232323232\n",
      "23.799999999999986\n",
      "433.3333333333333\n",
      "24.499999999999986\n",
      "443.4343434343434\n",
      "25.199999999999985\n",
      "453.5353535353535\n",
      "25.899999999999984\n",
      "463.6363636363636\n",
      "26.599999999999984\n",
      "473.73737373737373\n",
      "27.299999999999983\n",
      "483.83838383838383\n",
      "27.999999999999982\n",
      "493.93939393939394\n",
      "28.69999999999998\n",
      "504.04040404040404\n",
      "29.39999999999998\n",
      "514.1414141414141\n",
      "30.09999999999998\n",
      "524.2424242424242\n",
      "30.79999999999998\n",
      "534.3434343434343\n",
      "31.49999999999998\n",
      "544.4444444444443\n",
      "32.19999999999998\n",
      "554.5454545454545\n",
      "32.899999999999984\n",
      "564.6464646464647\n",
      "33.59999999999999\n",
      "574.7474747474747\n",
      "34.29999999999999\n",
      "584.8484848484848\n",
      "34.99999999999999\n",
      "594.9494949494949\n",
      "35.699999999999996\n",
      "605.0505050505051\n",
      "36.4\n",
      "615.1515151515151\n",
      "37.1\n",
      "625.2525252525252\n",
      "37.800000000000004\n",
      "635.3535353535353\n",
      "38.50000000000001\n",
      "645.4545454545454\n",
      "39.20000000000001\n",
      "655.5555555555555\n",
      "39.90000000000001\n",
      "665.6565656565656\n",
      "40.600000000000016\n",
      "675.7575757575758\n",
      "41.30000000000002\n",
      "685.8585858585858\n",
      "42.00000000000002\n",
      "695.959595959596\n",
      "42.700000000000024\n",
      "706.060606060606\n",
      "43.40000000000003\n",
      "716.1616161616162\n",
      "44.10000000000003\n",
      "726.2626262626262\n",
      "44.80000000000003\n",
      "736.3636363636364\n",
      "45.500000000000036\n",
      "746.4646464646464\n",
      "46.20000000000004\n",
      "756.5656565656565\n",
      "46.90000000000004\n",
      "766.6666666666666\n",
      "47.600000000000044\n",
      "776.7676767676767\n",
      "48.30000000000005\n",
      "786.8686868686868\n",
      "49.00000000000005\n",
      "796.9696969696969\n",
      "49.70000000000005\n",
      "807.070707070707\n",
      "50.400000000000055\n",
      "817.1717171717171\n",
      "51.10000000000006\n",
      "827.2727272727273\n",
      "51.80000000000006\n",
      "837.3737373737373\n",
      "52.500000000000064\n",
      "847.4747474747475\n",
      "53.20000000000007\n",
      "857.5757575757575\n",
      "53.90000000000007\n",
      "867.6767676767677\n",
      "54.60000000000007\n",
      "877.7777777777777\n",
      "55.300000000000075\n",
      "887.8787878787879\n",
      "56.00000000000008\n",
      "897.9797979797979\n",
      "56.70000000000008\n",
      "908.0808080808081\n",
      "57.400000000000084\n",
      "918.1818181818181\n",
      "58.10000000000009\n",
      "928.2828282828282\n",
      "58.80000000000009\n",
      "938.3838383838383\n",
      "59.50000000000009\n",
      "948.4848484848484\n",
      "60.200000000000095\n",
      "958.5858585858585\n",
      "60.9000000000001\n",
      "968.6868686868686\n",
      "61.6000000000001\n",
      "978.7878787878788\n",
      "62.300000000000104\n",
      "988.8888888888888\n",
      "63.00000000000011\n",
      "998.989898989899\n",
      "63.70000000000011\n",
      "1009.090909090909\n",
      "64.4000000000001\n",
      "1019.1919191919192\n",
      "65.10000000000011\n",
      "1029.2929292929293\n",
      "65.80000000000011\n",
      "1039.3939393939395\n",
      "66.50000000000011\n",
      "1049.4949494949494\n",
      "67.20000000000012\n",
      "1059.5959595959596\n",
      "67.90000000000012\n",
      "1069.6969696969695\n",
      "68.60000000000012\n",
      "1079.7979797979797\n",
      "69.30000000000013\n",
      "1089.8989898989898\n",
      "70.00000000000013\n",
      "1100.0\n"
     ]
    }
   ],
   "source": [
    "x = np.linspace(100, 1100, 100)\n",
    "y = [ectopic_2(i) for i in x]\n",
    "growth = pd.DataFrame({'Time':x, 'HctA':y})"
   ]
  },
  {
   "cell_type": "code",
   "execution_count": 102,
   "id": "fd9952bc",
   "metadata": {},
   "outputs": [],
   "source": [
    "pr0 = 0.2 #RNA production rate of ectExp\n",
    "nr0 = 0.05 #RNA degredation rate of ectExp\n",
    "p0 = 1 #Protein production rate of ectExp\n",
    "n0 = 0.03  #Protein degredation rate of ectExp"
   ]
  },
  {
   "cell_type": "code",
   "execution_count": 103,
   "id": "18af3720",
   "metadata": {},
   "outputs": [],
   "source": [
    "cell.rnaamt = [0.0,0.0,0.0,0.0,0.0] # RNA levels, used, in part, to drive geneamt levels #[0]= ectExp, [1]=Euo, [2]=HctA, [3]=CtcB, [4]=HctB\n",
    "cell.geneamt = [0.0,0.0,0.0,0.0,0.0]\n",
    "def ectopic(t):\n",
    "    cell.rnaamt[0] = cell.rnaamt[0] + (pr0 * cell.growthRate) - (nr0 * cell.rnaamt[0]) # RNA of ectopic expressed protein\n",
    "    cell.geneamt[0] = cell.geneamt[0] + (p0 * cell.rnaamt[0] * cell.growthRate) - (n0 * cell.geneamt[0]) #Ectopic expresed protein\n",
    "    #print(cell.geneamt[0])\n",
    "    return cell.geneamt[0]"
   ]
  },
  {
   "cell_type": "code",
   "execution_count": 104,
   "id": "7276f481",
   "metadata": {},
   "outputs": [],
   "source": [
    "x = np.linspace(0, 100, 99)\n",
    "y = [ectopic(i) for i in x]\n",
    "growth = pd.DataFrame({'Time':x, 'HctA':y})"
   ]
  },
  {
   "cell_type": "code",
   "execution_count": 126,
   "id": "910030c3",
   "metadata": {},
   "outputs": [
    {
     "data": {
      "text/plain": [
       "<AxesSubplot:xlabel='Time'>"
      ]
     },
     "execution_count": 126,
     "metadata": {},
     "output_type": "execute_result"
    },
    {
     "data": {
      "image/png": "[encoded data removed]",
      "text/plain": [
       "<Figure size 432x288 with 1 Axes>"
      ]
     },
     "metadata": {},
     "output_type": "display_data"
    }
   ],
   "source": [
    "growth.plot(x='Time', y='HctA', legend=False)"
   ]
  },
  {
   "cell_type": "code",
   "execution_count": null,
   "id": "c2365265",
   "metadata": {},
   "outputs": [],
   "source": []
  }
 ],
 "metadata": {
  "kernelspec": {
   "display_name": "Python 3 (ipykernel)",
   "language": "python",
   "name": "python3"
  },
  "language_info": {
   "codemirror_mode": {
    "name": "ipython",
    "version": 3
   },
   "file_extension": ".py",
   "mimetype": "text/x-python",
   "name": "python",
   "nbconvert_exporter": "python",
   "pygments_lexer": "ipython3",
   "version": "3.8.10"
  }
 },
 "nbformat": 4,
 "nbformat_minor": 5
}
