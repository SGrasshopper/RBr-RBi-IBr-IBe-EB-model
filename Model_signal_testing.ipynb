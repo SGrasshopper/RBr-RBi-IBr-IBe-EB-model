{
 "cells": [
  {
   "cell_type": "code",
   "execution_count": 1,
   "id": "911546f1",
   "metadata": {},
   "outputs": [],
   "source": [
    "import numpy as np\n",
    "import math\n",
    "import CellModeller\n",
    "import pandas as pd\n",
    "#import cPickle\n",
    "import os\n",
    "import glob\n",
    "#%matplotlib notebook\n",
    "%matplotlib inline\n",
    "import matplotlib.pyplot as plt\n",
    "import seaborn as sns; sns.set(color_codes=True)\n",
    "import pickle"
   ]
  },
  {
   "cell_type": "code",
   "execution_count": 50,
   "id": "2ec4854d",
   "metadata": {},
   "outputs": [],
   "source": [
    "def my_logistic(t): postive \n",
    "    return 100/(1+99*math.exp(-1.09*t))"
   ]
  },
  {
   "cell_type": "code",
   "execution_count": 67,
   "id": "2b58e383",
   "metadata": {},
   "outputs": [],
   "source": [
    "def my_logistic(t): negative\n",
    "    return 100/(100/(1+99*math.exp(-1.09*t)))"
   ]
  },
  {
   "cell_type": "code",
   "execution_count": 68,
   "id": "ab110f60",
   "metadata": {},
   "outputs": [],
   "source": [
    "x = np.linspace(0, 10, 99)\n",
    "y = [my_logistic(i) for i in x]\n",
    "growth = pd.DataFrame({'Time':x, 'HctA':y})"
   ]
  },
  {
   "cell_type": "code",
   "execution_count": 69,
   "id": "302d55ac",
   "metadata": {},
   "outputs": [
    {
     "data": {
      "text/plain": [
       "<AxesSubplot:xlabel='Time'>"
      ]
     },
     "execution_count": 69,
     "metadata": {},
     "output_type": "execute_result"
    },
    {
     "data": {
      "image/png": "[encoded data removed]",
      "text/plain": [
       "<Figure size 432x288 with 1 Axes>"
      ]
     },
     "metadata": {},
     "output_type": "display_data"
    }
   ],
   "source": [
    "growth.plot(x='Time', y='HctA', legend=False)"
   ]
  },
  {
   "cell_type": "code",
   "execution_count": 58,
   "id": "2f0ef3ae",
   "metadata": {},
   "outputs": [],
   "source": [
    "class cell:\n",
    "    rnaamt = [0.0,0.0,0.0,0.0,0.0] # RNA levels, used, in part, to drive geneamt levels #[0]= ectExp, [1]=Euo, [2]=HctA, [3]=CtcB, [4]=HctB\n",
    "    geneamt = [0.0,0.0,0.0,0.0,0.0]   #[0]= ectExp, [1]=Euo, [2]=HctA, [3]=CtcB, [4]=HctB\n",
    "    growthRate = 1"
   ]
  },
  {
   "cell_type": "code",
   "execution_count": 59,
   "id": "fd9952bc",
   "metadata": {},
   "outputs": [],
   "source": [
    "pr0 = 0.02 #RNA production rate of ectExp\n",
    "nr0 = 0.01 #RNA degredation rate of ectExp\n",
    "p0 = 0.5 #Protein production rate of ectExp\n",
    "n0 = 0.05  #Protein degredation rate of ectExp"
   ]
  },
  {
   "cell_type": "code",
   "execution_count": 60,
   "id": "18af3720",
   "metadata": {},
   "outputs": [],
   "source": [
    "def ectopic(t):\n",
    "    cell.rnaamt[0] = cell.rnaamt[0] + (pr0 * cell.growthRate) - (nr0 * cell.rnaamt[0]) # RNA of ectopic expressed protein\n",
    "    cell.geneamt[0] = cell.geneamt[0] + (p0 * cell.rnaamt[0] * cell.growthRate) - (n0 * cell.geneamt[0]) #Ectopic expresed protein\n",
    "    print(i)\n",
    "    print(cell.geneamt[0])\n",
    "    return cell.geneamt[0]"
   ]
  },
  {
   "cell_type": "code",
   "execution_count": 61,
   "id": "e44cd42c",
   "metadata": {},
   "outputs": [
    {
     "name": "stdout",
     "output_type": "stream",
     "text": [
      "10.0\n",
      "0.01\n"
     ]
    },
    {
     "data": {
      "text/plain": [
       "0.01"
      ]
     },
     "execution_count": 61,
     "metadata": {},
     "output_type": "execute_result"
    }
   ],
   "source": [
    "ectopic(1)"
   ]
  },
  {
   "cell_type": "code",
   "execution_count": 62,
   "id": "7276f481",
   "metadata": {},
   "outputs": [
    {
     "name": "stdout",
     "output_type": "stream",
     "text": [
      "10.0\n",
      "0.029400000000000003\n",
      "10.0\n",
      "0.057631\n",
      "10.0\n",
      "0.09415344\n",
      "10.0\n",
      "0.1384557181\n",
      "10.0\n",
      "0.190052782794\n",
      "10.0\n",
      "0.24848479574731003\n",
      "10.0\n",
      "0.3133158615320244\n",
      "10.0\n",
      "0.3841328209717823\n",
      "10.0\n",
      "0.46054410491438874\n",
      "10.0\n",
      "0.5421786454099529\n",
      "10.0\n",
      "0.6286848414233259\n",
      "10.0\n",
      "0.7197295763531916\n",
      "10.0\n",
      "0.8149972847665536\n",
      "10.0\n",
      "0.9141890658869374\n",
      "10.0\n",
      "1.0170218414977148\n",
      "10.0\n",
      "1.1232275560389022\n",
      "10.0\n",
      "1.2325524167868696\n",
      "10.0\n",
      "1.3447561721119392\n",
      "10.0\n",
      "1.4596114259091115\n",
      "10.0\n",
      "1.5769029863923973\n",
      "10.0\n",
      "1.6964272475337316\n",
      "10.0\n",
      "1.8179916015133895\n",
      "10.0\n",
      "1.9414138806305008\n",
      "10.0\n",
      "2.066521827199829\n",
      "10.0\n",
      "2.193152590034682\n",
      "10.0\n",
      "2.3211522461858443\n",
      "10.0\n",
      "2.4503753466729195\n",
      "10.0\n",
      "2.5806844850076773\n",
      "10.0\n",
      "2.711949887369013\n",
      "10.0\n",
      "2.8440490233461646\n",
      "10.0\n",
      "2.976866236221003\n",
      "10.0\n",
      "3.1102923918116776\n",
      "10.0\n",
      "3.2442245449488016\n",
      "10.0\n",
      "3.3785656227017924\n",
      "10.0\n",
      "3.513224123517129\n",
      "10.0\n",
      "3.6481138314721946\n",
      "10.0\n",
      "3.7831535448881977\n",
      "10.0\n",
      "3.918266818583505\n",
      "10.0\n",
      "4.0533817190846495\n",
      "10.0\n",
      "4.1884305921464335\n",
      "10.0\n",
      "4.323349841964968\n",
      "10.0\n",
      "4.458079721498317\n",
      "10.0\n",
      "4.592564133338683\n",
      "10.0\n",
      "4.726750440607877\n",
      "10.0\n",
      "4.8605892873742516\n",
      "10.0\n",
      "4.99403442811434\n",
      "10.0\n",
      "5.1270425657663345\n",
      "10.0\n",
      "5.259573197945153\n",
      "10.0\n",
      "5.391588470910358\n",
      "10.0\n",
      "5.523053040898679\n",
      "10.0\n",
      "5.6539339424522455\n",
      "10.0\n",
      "5.784200463392149\n",
      "10.0\n",
      "5.913824026104432\n",
      "10.0\n",
      "6.042778074822282\n",
      "10.0\n",
      "6.171037968604009\n",
      "10.0\n",
      "6.2985808797214204\n",
      "10.0\n",
      "6.425385697187486\n",
      "10.0\n",
      "6.551432935165726\n",
      "10.0\n",
      "6.676704646016679\n",
      "10.0\n",
      "6.801184337748992\n",
      "10.0\n",
      "6.924856895654357\n",
      "10.0\n",
      "7.047708507916526\n",
      "10.0\n",
      "7.169726594995137\n",
      "10.0\n",
      "7.290899742595075\n",
      "10.0\n",
      "7.411217638041518\n",
      "10.0\n",
      "7.530671009889876\n",
      "10.0\n",
      "7.649251570608313\n",
      "10.0\n",
      "7.766951962178697\n",
      "10.0\n",
      "7.883765704469554\n",
      "10.0\n",
      "7.999687146241873\n",
      "10.0\n",
      "8.114711418655615\n",
      "10.0\n",
      "8.228834391151413\n",
      "10.0\n",
      "8.342052629588135\n",
      "10.0\n",
      "8.454363356523078\n",
      "10.0\n",
      "8.56576441352713\n",
      "10.0\n",
      "8.676254225432679\n",
      "10.0\n",
      "8.78583176641713\n",
      "10.0\n",
      "8.8944965278298\n",
      "10.0\n",
      "9.0022484876745\n",
      "10.0\n",
      "9.109088081664602\n",
      "10.0\n",
      "9.215016175771462\n",
      "10.0\n",
      "9.320034040191077\n",
      "10.0\n",
      "9.42414332465763\n",
      "10.0\n",
      "9.527346035036095\n",
      "10.0\n",
      "9.629644511129522\n",
      "10.0\n",
      "9.731041405639825\n",
      "10.0\n",
      "9.831539664223946\n",
      "10.0\n",
      "9.931142506590199\n",
      "10.0\n",
      "10.029853408582365\n",
      "10.0\n",
      "10.127676085201706\n",
      "10.0\n",
      "10.224614474519596\n",
      "10.0\n",
      "10.32067272243581\n",
      "10.0\n",
      "10.415855168239794\n",
      "10.0\n",
      "10.51016633093432\n",
      "10.0\n",
      "10.603610896283055\n",
      "10.0\n",
      "10.696193704545399\n",
      "10.0\n",
      "10.787919738863861\n",
      "10.0\n",
      "10.878794114270942\n",
      "10.0\n",
      "10.968822067284165\n"
     ]
    }
   ],
   "source": [
    "x = np.linspace(0, 10, 99)\n",
    "y = [ectopic(i) for i in x]\n",
    "growth = pd.DataFrame({'Time':x, 'HctA':y})"
   ]
  },
  {
   "cell_type": "code",
   "execution_count": 63,
   "id": "910030c3",
   "metadata": {},
   "outputs": [
    {
     "data": {
      "text/plain": [
       "<AxesSubplot:xlabel='Time'>"
      ]
     },
     "execution_count": 63,
     "metadata": {},
     "output_type": "execute_result"
    },
    {
     "data": {
      "image/png": "[encoded data removed]",
      "text/plain": [
       "<Figure size 432x288 with 1 Axes>"
      ]
     },
     "metadata": {},
     "output_type": "display_data"
    }
   ],
   "source": [
    "growth.plot(x='Time', y='HctA', legend=False)"
   ]
  },
  {
   "cell_type": "code",
   "execution_count": null,
   "id": "c2365265",
   "metadata": {},
   "outputs": [],
   "source": []
  }
 ],
 "metadata": {
  "kernelspec": {
   "display_name": "Python 3 (ipykernel)",
   "language": "python",
   "name": "python3"
  },
  "language_info": {
   "codemirror_mode": {
    "name": "ipython",
    "version": 3
   },
   "file_extension": ".py",
   "mimetype": "text/x-python",
   "name": "python",
   "nbconvert_exporter": "python",
   "pygments_lexer": "ipython3",
   "version": "3.8.10"
  }
 },
 "nbformat": 4,
 "nbformat_minor": 5
}
